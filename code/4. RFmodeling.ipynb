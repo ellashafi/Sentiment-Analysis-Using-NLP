{
 "cells": [
  {
   "cell_type": "markdown",
   "id": "b347a20b-6438-49e4-b66a-62d31100d841",
   "metadata": {},
   "source": [
    "# NLP And Random Forest Modeling"
   ]
  },
  {
   "cell_type": "markdown",
   "id": "e7d5dce4-06a4-4b74-9183-d2813a18b0db",
   "metadata": {},
   "source": [
    "In this notebook NLP and EDA will be performed on subreddits dataset."
   ]
  },
  {
   "cell_type": "code",
   "execution_count": 73,
   "id": "c6b54b42-348f-4b64-85d4-c8eb04550221",
   "metadata": {},
   "outputs": [],
   "source": [
    "import requests\n",
    "import math\n",
    "import time\n",
    "import pandas as pd\n",
    "import matplotlib.pyplot as plt\n",
    "\n",
    "from sklearn.model_selection import train_test_split, GridSearchCV\n",
    "from sklearn.pipeline import Pipeline\n",
    "from sklearn.metrics import confusion_matrix, ConfusionMatrixDisplay, accuracy_score, RocCurveDisplay, roc_auc_score, recall_score, precision_score, f1_score\n",
    "\n",
    "from sklearn.feature_extraction.text import CountVectorizer, TfidfVectorizer\n",
    "\n",
    "import nltk\n",
    "from nltk.tokenize import sent_tokenize, word_tokenize\n",
    "from nltk.stem import PorterStemmer\n",
    "from nltk.corpus import stopwords\n"
   ]
  },
  {
   "cell_type": "code",
   "execution_count": 74,
   "id": "bbb97c12-3842-459d-80c2-608bcb58ea4b",
   "metadata": {},
   "outputs": [],
   "source": [
    "df = pd.read_csv('data/subreddits.csv')"
   ]
  },
  {
   "cell_type": "markdown",
   "id": "9b568107-58ae-448a-9d4f-7eb4b8eba12f",
   "metadata": {},
   "source": [
    "### Converting python/R to binary labels:"
   ]
  },
  {
   "cell_type": "code",
   "execution_count": 75,
   "id": "34ebc065-1bd5-415c-b84d-3340bef44c4a",
   "metadata": {},
   "outputs": [
    {
     "data": {
      "text/html": [
       "<div>\n",
       "<style scoped>\n",
       "    .dataframe tbody tr th:only-of-type {\n",
       "        vertical-align: middle;\n",
       "    }\n",
       "\n",
       "    .dataframe tbody tr th {\n",
       "        vertical-align: top;\n",
       "    }\n",
       "\n",
       "    .dataframe thead th {\n",
       "        text-align: right;\n",
       "    }\n",
       "</style>\n",
       "<table border=\"1\" class=\"dataframe\">\n",
       "  <thead>\n",
       "    <tr style=\"text-align: right;\">\n",
       "      <th></th>\n",
       "      <th>subreddit</th>\n",
       "      <th>selftext</th>\n",
       "      <th>title</th>\n",
       "    </tr>\n",
       "  </thead>\n",
       "  <tbody>\n",
       "    <tr>\n",
       "      <th>0</th>\n",
       "      <td>1</td>\n",
       "      <td>All you people say \"oh boohoo Jimmy, boohoohoo...</td>\n",
       "      <td>Stop denying it. Chuck was right</td>\n",
       "    </tr>\n",
       "    <tr>\n",
       "      <th>1</th>\n",
       "      <td>1</td>\n",
       "      <td>We all know that the excavation happened in th...</td>\n",
       "      <td>Where exactly is the excavation project</td>\n",
       "    </tr>\n",
       "    <tr>\n",
       "      <th>2</th>\n",
       "      <td>1</td>\n",
       "      <td>Mine is probably Dedicado a Max. It's not horr...</td>\n",
       "      <td>Least favorite episode?</td>\n",
       "    </tr>\n",
       "    <tr>\n",
       "      <th>3</th>\n",
       "      <td>1</td>\n",
       "      <td>NaN</td>\n",
       "      <td>Better SUCK Chuck (Official Music Video) pls c...</td>\n",
       "    </tr>\n",
       "    <tr>\n",
       "      <th>4</th>\n",
       "      <td>1</td>\n",
       "      <td>NaN</td>\n",
       "      <td>Salamanca Brothers</td>\n",
       "    </tr>\n",
       "  </tbody>\n",
       "</table>\n",
       "</div>"
      ],
      "text/plain": [
       "   subreddit                                           selftext  \\\n",
       "0          1  All you people say \"oh boohoo Jimmy, boohoohoo...   \n",
       "1          1  We all know that the excavation happened in th...   \n",
       "2          1  Mine is probably Dedicado a Max. It's not horr...   \n",
       "3          1                                                NaN   \n",
       "4          1                                                NaN   \n",
       "\n",
       "                                               title  \n",
       "0                   Stop denying it. Chuck was right  \n",
       "1            Where exactly is the excavation project  \n",
       "2                            Least favorite episode?  \n",
       "3  Better SUCK Chuck (Official Music Video) pls c...  \n",
       "4                                 Salamanca Brothers  "
      ]
     },
     "execution_count": 75,
     "metadata": {},
     "output_type": "execute_result"
    }
   ],
   "source": [
    "# Create label column for Python and Rlanguage subreddits\n",
    "df['subreddit'] = df['subreddit'].map({'breakingbad': 0, 'betterCallSaul': 1})\n",
    "\n",
    "df.drop(columns = 'Unnamed: 0', inplace= True)\n",
    "df.head()"
   ]
  },
  {
   "cell_type": "code",
   "execution_count": 76,
   "id": "1d656047-1d3c-4d7d-9678-fa573256e859",
   "metadata": {},
   "outputs": [
    {
     "data": {
      "text/plain": [
       "subreddit       0\n",
       "post         2503\n",
       "title           0\n",
       "dtype: int64"
      ]
     },
     "execution_count": 76,
     "metadata": {},
     "output_type": "execute_result"
    }
   ],
   "source": [
    "# Rename Column name\n",
    "df = df.rename(columns={'selftext': 'post'})\n",
    "df.isna().sum()"
   ]
  },
  {
   "cell_type": "code",
   "execution_count": 77,
   "id": "4bf5476d-c34f-4577-a01b-28740e58021a",
   "metadata": {},
   "outputs": [],
   "source": [
    "# Function to count words in each post:\n",
    "def word_count(post):\n",
    "    word_count = 0\n",
    "    is_in_word = False\n",
    "    for char in post:\n",
    "        if char in ' \\t\\n.!,:;/?\\\\()\"':\n",
    "            is_in_word = False\n",
    "        else:\n",
    "            if not is_in_word:\n",
    "                word_count += 1\n",
    "                is_in_word = True\n",
    "\n",
    "    return (word_count)"
   ]
  },
  {
   "cell_type": "code",
   "execution_count": 78,
   "id": "6acc951c-b8de-4491-a241-c0976567c1a9",
   "metadata": {},
   "outputs": [
    {
     "data": {
      "text/plain": [
       "(4993, 4)"
      ]
     },
     "execution_count": 78,
     "metadata": {},
     "output_type": "execute_result"
    }
   ],
   "source": [
    "# Adding two columns showing number of words in each text\n",
    "df['title_length'] = [word_count(comment) for comment in df['title']]\n",
    "df.shape"
   ]
  },
  {
   "cell_type": "code",
   "execution_count": 79,
   "id": "4faf99b0-5ea9-4e96-a3cb-835de2f566cf",
   "metadata": {},
   "outputs": [
    {
     "data": {
      "text/html": [
       "<div>\n",
       "<style scoped>\n",
       "    .dataframe tbody tr th:only-of-type {\n",
       "        vertical-align: middle;\n",
       "    }\n",
       "\n",
       "    .dataframe tbody tr th {\n",
       "        vertical-align: top;\n",
       "    }\n",
       "\n",
       "    .dataframe thead th {\n",
       "        text-align: right;\n",
       "    }\n",
       "</style>\n",
       "<table border=\"1\" class=\"dataframe\">\n",
       "  <thead>\n",
       "    <tr style=\"text-align: right;\">\n",
       "      <th></th>\n",
       "      <th>subreddit</th>\n",
       "      <th>post</th>\n",
       "      <th>title</th>\n",
       "      <th>title_length</th>\n",
       "    </tr>\n",
       "  </thead>\n",
       "  <tbody>\n",
       "    <tr>\n",
       "      <th>0</th>\n",
       "      <td>1</td>\n",
       "      <td>All you people say \"oh boohoo Jimmy, boohoohoo...</td>\n",
       "      <td>Stop denying it. Chuck was right</td>\n",
       "      <td>6</td>\n",
       "    </tr>\n",
       "    <tr>\n",
       "      <th>1</th>\n",
       "      <td>1</td>\n",
       "      <td>We all know that the excavation happened in th...</td>\n",
       "      <td>Where exactly is the excavation project</td>\n",
       "      <td>6</td>\n",
       "    </tr>\n",
       "    <tr>\n",
       "      <th>2</th>\n",
       "      <td>1</td>\n",
       "      <td>Mine is probably Dedicado a Max. It's not horr...</td>\n",
       "      <td>Least favorite episode?</td>\n",
       "      <td>3</td>\n",
       "    </tr>\n",
       "    <tr>\n",
       "      <th>3</th>\n",
       "      <td>1</td>\n",
       "      <td>NaN</td>\n",
       "      <td>Better SUCK Chuck (Official Music Video) pls c...</td>\n",
       "      <td>12</td>\n",
       "    </tr>\n",
       "    <tr>\n",
       "      <th>4</th>\n",
       "      <td>1</td>\n",
       "      <td>NaN</td>\n",
       "      <td>Salamanca Brothers</td>\n",
       "      <td>2</td>\n",
       "    </tr>\n",
       "  </tbody>\n",
       "</table>\n",
       "</div>"
      ],
      "text/plain": [
       "   subreddit                                               post  \\\n",
       "0          1  All you people say \"oh boohoo Jimmy, boohoohoo...   \n",
       "1          1  We all know that the excavation happened in th...   \n",
       "2          1  Mine is probably Dedicado a Max. It's not horr...   \n",
       "3          1                                                NaN   \n",
       "4          1                                                NaN   \n",
       "\n",
       "                                               title  title_length  \n",
       "0                   Stop denying it. Chuck was right             6  \n",
       "1            Where exactly is the excavation project             6  \n",
       "2                            Least favorite episode?             3  \n",
       "3  Better SUCK Chuck (Official Music Video) pls c...            12  \n",
       "4                                 Salamanca Brothers             2  "
      ]
     },
     "execution_count": 79,
     "metadata": {},
     "output_type": "execute_result"
    }
   ],
   "source": [
    "df.head()"
   ]
  },
  {
   "cell_type": "markdown",
   "id": "163ca4e6-12de-447a-aac3-0b3e655131e0",
   "metadata": {},
   "source": [
    "# NLP"
   ]
  },
  {
   "cell_type": "code",
   "execution_count": 80,
   "id": "88a4037f-578f-457c-969e-314401a4a630",
   "metadata": {},
   "outputs": [],
   "source": [
    "X = df['title']\n",
    "y = df['subreddit']"
   ]
  },
  {
   "cell_type": "code",
   "execution_count": 81,
   "id": "de6ca982-4ba0-4c24-a97e-e7c0a522eaf6",
   "metadata": {},
   "outputs": [],
   "source": [
    "# Split the data into the training and testing sets.\n",
    "X_train, X_test, y_train, y_test = train_test_split(X,\n",
    "                                                    y,\n",
    "                                                    stratify=y,\n",
    "                                                    random_state=42)"
   ]
  },
  {
   "cell_type": "markdown",
   "id": "9ac5b3e1-1bb6-473e-b087-3a58d0999ff5",
   "metadata": {},
   "source": [
    "# Preprocessing"
   ]
  },
  {
   "cell_type": "markdown",
   "id": "497e350b-22cb-445c-a1b5-9d72a45c09e5",
   "metadata": {},
   "source": [
    "#### Countvectorizer"
   ]
  },
  {
   "cell_type": "code",
   "execution_count": 82,
   "id": "e15b2883-480f-432b-9642-4cac35fe04b1",
   "metadata": {},
   "outputs": [],
   "source": [
    "# Instantiate with stop words and n-grams:\n",
    "cvec = CountVectorizer(#tokenizer = '\\w+', \n",
    "                       stop_words = 'english', \n",
    "                       ngram_range = (1,2), \n",
    "                       max_features=3000, \n",
    "                       min_df=2, \n",
    "                       max_df=.98)"
   ]
  },
  {
   "cell_type": "code",
   "execution_count": 83,
   "id": "95b4288c-8dca-4ed8-bee5-4c6caa75cb9b",
   "metadata": {},
   "outputs": [],
   "source": [
    "cvec.fit(X_train)\n",
    "X_train = cvec.transform(X_train)\n",
    "X_test = cvec.transform(X_test)"
   ]
  },
  {
   "cell_type": "code",
   "execution_count": 84,
   "id": "62f39304-0933-4a0c-870a-cf4a097b7b9d",
   "metadata": {},
   "outputs": [
    {
     "data": {
      "text/plain": [
       "(3744, 3000)"
      ]
     },
     "execution_count": 84,
     "metadata": {},
     "output_type": "execute_result"
    }
   ],
   "source": [
    "X_train.shape"
   ]
  },
  {
   "cell_type": "code",
   "execution_count": 85,
   "id": "b1043474-06ca-4d78-bf9d-556ec50d2979",
   "metadata": {},
   "outputs": [
    {
     "name": "stderr",
     "output_type": "stream",
     "text": [
      "/Users/ella/opt/anaconda3/envs/dsi/lib/python3.9/site-packages/sklearn/utils/deprecation.py:87: FutureWarning: Function get_feature_names is deprecated; get_feature_names is deprecated in 1.0 and will be removed in 1.2. Please use get_feature_names_out instead.\n",
      "  warnings.warn(msg, category=FutureWarning)\n"
     ]
    }
   ],
   "source": [
    "X_train_df = pd.DataFrame(X_train.todense(), \n",
    "                          columns=cvec.get_feature_names())"
   ]
  },
  {
   "cell_type": "code",
   "execution_count": 86,
   "id": "eae6a782-8024-48e0-b617-e9ce5dada289",
   "metadata": {},
   "outputs": [
    {
     "data": {
      "image/png": "[encoded data removed]",
      "text/plain": [
       "<Figure size 640x480 with 1 Axes>"
      ]
     },
     "metadata": {},
     "output_type": "display_data"
    }
   ],
   "source": [
    "X_train_df.sum().sort_values(ascending = False).head(10).plot(kind = 'barh');"
   ]
  },
  {
   "cell_type": "markdown",
   "id": "f8abdf52-7161-4b2c-90ff-bf556de3ae23",
   "metadata": {},
   "source": [
    "#### Baseline Accuracy"
   ]
  },
  {
   "cell_type": "code",
   "execution_count": 87,
   "id": "f7b983d7-ca6a-42ff-a286-11736d4c35c0",
   "metadata": {},
   "outputs": [
    {
     "data": {
      "text/plain": [
       "0    0.5004\n",
       "1    0.4996\n",
       "Name: subreddit, dtype: float64"
      ]
     },
     "execution_count": 87,
     "metadata": {},
     "output_type": "execute_result"
    }
   ],
   "source": [
    "y_test.value_counts(normalize = True)"
   ]
  },
  {
   "cell_type": "code",
   "execution_count": 88,
   "id": "ed3c86b2-c91b-415e-a586-34f9674cb2b7",
   "metadata": {},
   "outputs": [],
   "source": [
    "# Split the data into the training and testing sets.\n",
    "X_train, X_test, y_train, y_test = train_test_split(X,\n",
    "                                                    y,\n",
    "                                                    stratify=y,\n",
    "                                                    random_state=42)"
   ]
  },
  {
   "cell_type": "code",
   "execution_count": 89,
   "id": "223a7772-ce04-47fb-9d8f-8cfc93bb211d",
   "metadata": {},
   "outputs": [],
   "source": [
    "#gb = GradientBoostingClassifier()\n",
    "\n",
    "pipe = Pipeline([\n",
    "    ('cvec', CountVectorizer()),\n",
    "    ('rf', RandomForestClassifier())\n",
    "])\n"
   ]
  },
  {
   "cell_type": "code",
   "execution_count": 90,
   "id": "d98d69d4-9d58-4448-8a19-13679764203f",
   "metadata": {},
   "outputs": [
    {
     "data": {
      "text/plain": [
       "{'memory': None,\n",
       " 'steps': [('cvec', CountVectorizer()), ('rf', RandomForestClassifier())],\n",
       " 'verbose': False,\n",
       " 'cvec': CountVectorizer(),\n",
       " 'rf': RandomForestClassifier(),\n",
       " 'cvec__analyzer': 'word',\n",
       " 'cvec__binary': False,\n",
       " 'cvec__decode_error': 'strict',\n",
       " 'cvec__dtype': numpy.int64,\n",
       " 'cvec__encoding': 'utf-8',\n",
       " 'cvec__input': 'content',\n",
       " 'cvec__lowercase': True,\n",
       " 'cvec__max_df': 1.0,\n",
       " 'cvec__max_features': None,\n",
       " 'cvec__min_df': 1,\n",
       " 'cvec__ngram_range': (1, 1),\n",
       " 'cvec__preprocessor': None,\n",
       " 'cvec__stop_words': None,\n",
       " 'cvec__strip_accents': None,\n",
       " 'cvec__token_pattern': '(?u)\\\\b\\\\w\\\\w+\\\\b',\n",
       " 'cvec__tokenizer': None,\n",
       " 'cvec__vocabulary': None,\n",
       " 'rf__bootstrap': True,\n",
       " 'rf__ccp_alpha': 0.0,\n",
       " 'rf__class_weight': None,\n",
       " 'rf__criterion': 'gini',\n",
       " 'rf__max_depth': None,\n",
       " 'rf__max_features': 'auto',\n",
       " 'rf__max_leaf_nodes': None,\n",
       " 'rf__max_samples': None,\n",
       " 'rf__min_impurity_decrease': 0.0,\n",
       " 'rf__min_samples_leaf': 1,\n",
       " 'rf__min_samples_split': 2,\n",
       " 'rf__min_weight_fraction_leaf': 0.0,\n",
       " 'rf__n_estimators': 100,\n",
       " 'rf__n_jobs': None,\n",
       " 'rf__oob_score': False,\n",
       " 'rf__random_state': None,\n",
       " 'rf__verbose': 0,\n",
       " 'rf__warm_start': False}"
      ]
     },
     "execution_count": 90,
     "metadata": {},
     "output_type": "execute_result"
    }
   ],
   "source": [
    "pipe.get_params()"
   ]
  },
  {
   "cell_type": "code",
   "execution_count": 91,
   "id": "aaf9e14d-0e43-4596-91b5-cf2c6dd09da1",
   "metadata": {},
   "outputs": [],
   "source": [
    "pipe_params = {\n",
    "    'cvec__max_features': [1500, 2000, 2500, 3000],\n",
    "    'cvec__min_df': [2, 3],\n",
    "    'cvec__max_df': [.9, .95],\n",
    "    'cvec__ngram_range': [(1, 1), (1, 2)],\n",
    "    'rf__n_estimators': [10, 100],\n",
    "    'rf__max_depth': [None, 1, 2, 3]\n",
    "}"
   ]
  },
  {
   "cell_type": "code",
   "execution_count": 92,
   "id": "19c7c552-8fda-4d6d-a31e-562ee359423f",
   "metadata": {},
   "outputs": [],
   "source": [
    "gs = GridSearchCV(pipe, # what object are we optimizing?\n",
    "                  param_grid = pipe_params, # what parameters values are we searching?\n",
    "                  cv = 5,\n",
    "                n_jobs= 8) "
   ]
  },
  {
   "cell_type": "code",
   "execution_count": 93,
   "id": "b8e7c56c-e4cb-4b99-9feb-98b8508d4547",
   "metadata": {
    "tags": []
   },
   "outputs": [
    {
     "data": {
      "text/plain": [
       "GridSearchCV(cv=5,\n",
       "             estimator=Pipeline(steps=[('cvec', CountVectorizer()),\n",
       "                                       ('rf', RandomForestClassifier())]),\n",
       "             n_jobs=8,\n",
       "             param_grid={'cvec__max_df': [0.9, 0.95],\n",
       "                         'cvec__max_features': [1500, 2000, 2500, 3000],\n",
       "                         'cvec__min_df': [2, 3],\n",
       "                         'cvec__ngram_range': [(1, 1), (1, 2)],\n",
       "                         'rf__max_depth': [None, 1, 2, 3],\n",
       "                         'rf__n_estimators': [10, 100]})"
      ]
     },
     "execution_count": 93,
     "metadata": {},
     "output_type": "execute_result"
    }
   ],
   "source": [
    "gs.fit(X_train, y_train)"
   ]
  },
  {
   "cell_type": "code",
   "execution_count": 94,
   "id": "f15d624b-7fd4-4646-afa6-0da1b9012d4a",
   "metadata": {},
   "outputs": [
    {
     "data": {
      "text/plain": [
       "{'cvec__max_df': 0.9,\n",
       " 'cvec__max_features': 2500,\n",
       " 'cvec__min_df': 2,\n",
       " 'cvec__ngram_range': (1, 1),\n",
       " 'rf__max_depth': None,\n",
       " 'rf__n_estimators': 100}"
      ]
     },
     "execution_count": 94,
     "metadata": {},
     "output_type": "execute_result"
    }
   ],
   "source": [
    "# Best Params\n",
    "gs.best_params_"
   ]
  },
  {
   "cell_type": "code",
   "execution_count": 95,
   "id": "f9fbb120-dc87-459e-8d57-a40be4d68ea9",
   "metadata": {},
   "outputs": [
    {
     "data": {
      "text/plain": [
       "0.9780982905982906"
      ]
     },
     "execution_count": 95,
     "metadata": {},
     "output_type": "execute_result"
    }
   ],
   "source": [
    "# Score model on training set.\n",
    "gs.score(X_train, y_train)"
   ]
  },
  {
   "cell_type": "code",
   "execution_count": 96,
   "id": "bd0b343a-13ce-4910-b175-42f65b806202",
   "metadata": {},
   "outputs": [
    {
     "data": {
      "text/plain": [
       "0.734187349879904"
      ]
     },
     "execution_count": 96,
     "metadata": {},
     "output_type": "execute_result"
    }
   ],
   "source": [
    "# Score model on testing set.\n",
    "gs.score(X_test, y_test)"
   ]
  },
  {
   "cell_type": "code",
   "execution_count": 97,
   "id": "de8cad30-eb97-4734-a4bc-951945406709",
   "metadata": {},
   "outputs": [],
   "source": [
    "# Get predictions\n",
    "preds = gs.predict(X_test)\n",
    "\n",
    "# Save confusion matrix values\n",
    "tn, fp, fn, tp = confusion_matrix(y_test, preds).ravel()"
   ]
  },
  {
   "cell_type": "code",
   "execution_count": 98,
   "id": "6d4ec2d4-71af-4f1f-8a9d-37feee0040ef",
   "metadata": {},
   "outputs": [
    {
     "name": "stderr",
     "output_type": "stream",
     "text": [
      "/Users/ella/opt/anaconda3/envs/dsi/lib/python3.9/site-packages/sklearn/utils/deprecation.py:87: FutureWarning: Function plot_confusion_matrix is deprecated; Function `plot_confusion_matrix` is deprecated in 1.0 and will be removed in 1.2. Use one of the class methods: ConfusionMatrixDisplay.from_predictions or ConfusionMatrixDisplay.from_estimator.\n",
      "  warnings.warn(msg, category=FutureWarning)\n"
     ]
    },
    {
     "data": {
      "image/png": "[encoded data removed]",
      "text/plain": [
       "<Figure size 640x480 with 2 Axes>"
      ]
     },
     "metadata": {},
     "output_type": "display_data"
    }
   ],
   "source": [
    "# View confusion matrix\n",
    "plot_confusion_matrix(gs, X_test, y_test, cmap='Oranges', values_format='d')\n",
    "plt.title('Confusion Matrix, Random Forest Model');\n",
    "plt.savefig('image/rfconfusionm.png')"
   ]
  },
  {
   "cell_type": "code",
   "execution_count": 99,
   "id": "5569b565-ac7b-4491-b9a4-f2b1c0936237",
   "metadata": {},
   "outputs": [
    {
     "name": "stdout",
     "output_type": "stream",
     "text": [
      "Specificity: 0.736\n"
     ]
    }
   ],
   "source": [
    "# Calculate the specificity\n",
    "spec = tn / (tn + fp)\n",
    "\n",
    "print(f'Specificity: {spec}')"
   ]
  },
  {
   "cell_type": "code",
   "execution_count": 100,
   "id": "15eae96c-329e-4f1a-8ec0-3dd0710b9598",
   "metadata": {},
   "outputs": [
    {
     "name": "stdout",
     "output_type": "stream",
     "text": [
      "Sensitivity: 0.7323717948717948\n"
     ]
    }
   ],
   "source": [
    "# Calculate the sensitivity\n",
    "sens = tp / (fn +tp)\n",
    "\n",
    "print(f'Sensitivity: {sens}')"
   ]
  },
  {
   "cell_type": "code",
   "execution_count": 101,
   "id": "0c82f786-1b58-4599-bb7d-e10741b1e574",
   "metadata": {},
   "outputs": [
    {
     "data": {
      "text/plain": [
       "0.734187349879904"
      ]
     },
     "execution_count": 101,
     "metadata": {},
     "output_type": "execute_result"
    }
   ],
   "source": [
    "accuracy_score(y_test, preds)"
   ]
  },
  {
   "cell_type": "markdown",
   "id": "571a7ec5-799c-4e3e-966b-21efc96c5452",
   "metadata": {},
   "source": [
    "## TfidfVectorizer"
   ]
  },
  {
   "cell_type": "code",
   "execution_count": 48,
   "id": "9efb47d0-977c-4faf-9026-455321c7a910",
   "metadata": {},
   "outputs": [
    {
     "name": "stderr",
     "output_type": "stream",
     "text": [
      "/Users/ella/opt/anaconda3/envs/dsi/lib/python3.9/site-packages/sklearn/utils/deprecation.py:87: FutureWarning: Function get_feature_names is deprecated; get_feature_names is deprecated in 1.0 and will be removed in 1.2. Please use get_feature_names_out instead.\n",
      "  warnings.warn(msg, category=FutureWarning)\n"
     ]
    },
    {
     "data": {
      "text/plain": [
       "{'memory': None,\n",
       " 'steps': [('tvec',\n",
       "   TfidfVectorizer(max_df=0.98, max_features=3000, min_df=2, ngram_range=(1, 2),\n",
       "                   stop_words='english')),\n",
       "  ('rf', RandomForestClassifier())],\n",
       " 'verbose': False,\n",
       " 'tvec': TfidfVectorizer(max_df=0.98, max_features=3000, min_df=2, ngram_range=(1, 2),\n",
       "                 stop_words='english'),\n",
       " 'rf': RandomForestClassifier(),\n",
       " 'tvec__analyzer': 'word',\n",
       " 'tvec__binary': False,\n",
       " 'tvec__decode_error': 'strict',\n",
       " 'tvec__dtype': numpy.float64,\n",
       " 'tvec__encoding': 'utf-8',\n",
       " 'tvec__input': 'content',\n",
       " 'tvec__lowercase': True,\n",
       " 'tvec__max_df': 0.98,\n",
       " 'tvec__max_features': 3000,\n",
       " 'tvec__min_df': 2,\n",
       " 'tvec__ngram_range': (1, 2),\n",
       " 'tvec__norm': 'l2',\n",
       " 'tvec__preprocessor': None,\n",
       " 'tvec__smooth_idf': True,\n",
       " 'tvec__stop_words': 'english',\n",
       " 'tvec__strip_accents': None,\n",
       " 'tvec__sublinear_tf': False,\n",
       " 'tvec__token_pattern': '(?u)\\\\b\\\\w\\\\w+\\\\b',\n",
       " 'tvec__tokenizer': None,\n",
       " 'tvec__use_idf': True,\n",
       " 'tvec__vocabulary': None,\n",
       " 'rf__bootstrap': True,\n",
       " 'rf__ccp_alpha': 0.0,\n",
       " 'rf__class_weight': None,\n",
       " 'rf__criterion': 'gini',\n",
       " 'rf__max_depth': None,\n",
       " 'rf__max_features': 'auto',\n",
       " 'rf__max_leaf_nodes': None,\n",
       " 'rf__max_samples': None,\n",
       " 'rf__min_impurity_decrease': 0.0,\n",
       " 'rf__min_samples_leaf': 1,\n",
       " 'rf__min_samples_split': 2,\n",
       " 'rf__min_weight_fraction_leaf': 0.0,\n",
       " 'rf__n_estimators': 100,\n",
       " 'rf__n_jobs': None,\n",
       " 'rf__oob_score': False,\n",
       " 'rf__random_state': None,\n",
       " 'rf__verbose': 0,\n",
       " 'rf__warm_start': False}"
      ]
     },
     "execution_count": 48,
     "metadata": {},
     "output_type": "execute_result"
    }
   ],
   "source": [
    "# Split the data into the training and testing sets.\n",
    "X_train, X_test, y_train, y_test = train_test_split(X,\n",
    "                                                    y,\n",
    "                                                    stratify=y,\n",
    "                                                    random_state=42)\n",
    "tvec = TfidfVectorizer()\n",
    "X_train_df = pd.DataFrame(tvec.fit_transform(X_train).todense(), \n",
    "                          columns=tvec.get_feature_names())\n",
    "pipe_tvec = Pipeline([\n",
    "    ('tvec', TfidfVectorizer(stop_words = 'english', \n",
    "                       ngram_range = (1,2), max_features=3000, \n",
    "                      min_df=2, max_df=.98)),\n",
    "    ('rf', RandomForestClassifier())\n",
    "])\n",
    "pipe_tvec.get_params()"
   ]
  },
  {
   "cell_type": "code",
   "execution_count": 51,
   "id": "96f8ff75-435c-4e03-b837-9971c4c76789",
   "metadata": {},
   "outputs": [
    {
     "data": {
      "text/plain": [
       "GridSearchCV(cv=5,\n",
       "             estimator=Pipeline(steps=[('tvec',\n",
       "                                        TfidfVectorizer(max_df=0.98,\n",
       "                                                        max_features=3000,\n",
       "                                                        min_df=2,\n",
       "                                                        ngram_range=(1, 2),\n",
       "                                                        stop_words='english')),\n",
       "                                       ('rf', RandomForestClassifier())]),\n",
       "             n_jobs=8,\n",
       "             param_grid={'rf__max_depth': [None, 1, 2, 3],\n",
       "                         'rf__n_estimators': [10, 100],\n",
       "                         'tvec__max_features': [2000, 3000, 4000, 5000],\n",
       "                         'tvec__ngram_range': [(1, 1), (1, 2)],\n",
       "                         'tvec__stop_words': [None, 'english']})"
      ]
     },
     "execution_count": 51,
     "metadata": {},
     "output_type": "execute_result"
    }
   ],
   "source": [
    "pipe_tvec_params = {\n",
    "    'tvec__max_features': [2_000, 3_000, 4_000, 5_000],\n",
    "    'tvec__stop_words': [None, 'english'],\n",
    "    'tvec__ngram_range': [(1, 1), (1, 2)],\n",
    "    'rf__n_estimators': [10, 100],\n",
    "    'rf__max_depth': [None, 1, 2, 3]\n",
    "}\n",
    "\n",
    "gs_tvec = GridSearchCV(pipe_tvec,\n",
    "                      param_grid = pipe_tvec_params,\n",
    "                      cv = 5,\n",
    "                      n_jobs = 8)\n",
    "gs_tvec.fit(X_train, y_train)"
   ]
  },
  {
   "cell_type": "code",
   "execution_count": 52,
   "id": "34f98833-5922-4259-a5ee-c4aa0ab93fd6",
   "metadata": {},
   "outputs": [
    {
     "data": {
      "text/plain": [
       "0.9647435897435898"
      ]
     },
     "execution_count": 52,
     "metadata": {},
     "output_type": "execute_result"
    }
   ],
   "source": [
    "# Score model on training set.\n",
    "gs_tvec.score(X_train, y_train)"
   ]
  },
  {
   "cell_type": "code",
   "execution_count": 53,
   "id": "71d02436-e5e9-499c-b879-021fe77cdbed",
   "metadata": {},
   "outputs": [
    {
     "data": {
      "text/plain": [
       "0.7566052842273819"
      ]
     },
     "execution_count": 53,
     "metadata": {},
     "output_type": "execute_result"
    }
   ],
   "source": [
    "gs_tvec.score(X_test, y_test)"
   ]
  },
  {
   "cell_type": "code",
   "execution_count": 54,
   "id": "40a15ab3-6105-4ea5-96da-99d234bfccbc",
   "metadata": {},
   "outputs": [
    {
     "data": {
      "text/plain": [
       "{'rf__max_depth': None,\n",
       " 'rf__n_estimators': 100,\n",
       " 'tvec__max_features': 4000,\n",
       " 'tvec__ngram_range': (1, 2),\n",
       " 'tvec__stop_words': 'english'}"
      ]
     },
     "execution_count": 54,
     "metadata": {},
     "output_type": "execute_result"
    }
   ],
   "source": [
    "# Best params?\n",
    "gs_tvec.best_params_"
   ]
  },
  {
   "cell_type": "code",
   "execution_count": 55,
   "id": "21a36561-d160-473e-b4bf-0295c7240dd6",
   "metadata": {},
   "outputs": [
    {
     "name": "stdout",
     "output_type": "stream",
     "text": [
      "Specificity: 0.7776\n"
     ]
    }
   ],
   "source": [
    "# Get predictions\n",
    "preds_tvec = gs_tvec.predict(X_test)\n",
    "\n",
    "# Save confusion matrix values\n",
    "tn, fp, fn, tp = confusion_matrix(y_test, preds_tvec).ravel()\n",
    "\n",
    "# Calculate the specificity\n",
    "\n",
    "spec = tn / (tn + fp)\n",
    "\n",
    "print(f'Specificity: {spec}')"
   ]
  },
  {
   "cell_type": "code",
   "execution_count": 61,
   "id": "546b4f04-c05c-48c2-b96e-94b9af4b2a8a",
   "metadata": {},
   "outputs": [
    {
     "name": "stderr",
     "output_type": "stream",
     "text": [
      "/Users/ella/opt/anaconda3/envs/dsi/lib/python3.9/site-packages/sklearn/utils/deprecation.py:87: FutureWarning: Function plot_confusion_matrix is deprecated; Function `plot_confusion_matrix` is deprecated in 1.0 and will be removed in 1.2. Use one of the class methods: ConfusionMatrixDisplay.from_predictions or ConfusionMatrixDisplay.from_estimator.\n",
      "  warnings.warn(msg, category=FutureWarning)\n"
     ]
    },
    {
     "data": {
      "image/png": "[encoded data removed]",
      "text/plain": [
       "<Figure size 640x480 with 2 Axes>"
      ]
     },
     "metadata": {},
     "output_type": "display_data"
    }
   ],
   "source": [
    "plot_confusion_matrix(gs_tvec, X_test, y_test, cmap = 'Blues')\n",
    "plt.title('Confusion Matrix');"
   ]
  },
  {
   "cell_type": "markdown",
   "id": "4b1f9abb-b2bf-40fe-8fc1-164fc78989aa",
   "metadata": {},
   "source": [
    "## Test Accuracy:"
   ]
  },
  {
   "cell_type": "code",
   "execution_count": 59,
   "id": "2e93f662-fcf3-419a-a73a-6d6f606fa109",
   "metadata": {},
   "outputs": [
    {
     "data": {
      "text/plain": [
       "0.7269815852682145"
      ]
     },
     "execution_count": 59,
     "metadata": {},
     "output_type": "execute_result"
    }
   ],
   "source": [
    "accuracy_score(y_test, preds)"
   ]
  },
  {
   "cell_type": "code",
   "execution_count": null,
   "id": "437608e4-71ee-413d-82d7-7fd8605d1b86",
   "metadata": {},
   "outputs": [],
   "source": []
  }
 ],
 "metadata": {
  "kernelspec": {
   "display_name": "Python 3 (ipykernel)",
   "language": "python",
   "name": "python3"
  },
  "language_info": {
   "codemirror_mode": {
    "name": "ipython",
    "version": 3
   },
   "file_extension": ".py",
   "mimetype": "text/x-python",
   "name": "python",
   "nbconvert_exporter": "python",
   "pygments_lexer": "ipython3",
   "version": "3.9.13"
  },
  "vscode": {
   "interpreter": {
    "hash": "6e4ee545c5f92b906b67408868d5c4fa102e2be9ab37f5a84f119d93af15ade1"
   }
  }
 },
 "nbformat": 4,
 "nbformat_minor": 5
}
