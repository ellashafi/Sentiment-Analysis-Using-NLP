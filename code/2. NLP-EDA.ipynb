{
 "cells": [
  {
   "cell_type": "markdown",
   "id": "5d3deb41-9b8a-409d-b0ba-1a17c7d6db88",
   "metadata": {},
   "source": [
    "# EDA"
   ]
  },
  {
   "cell_type": "markdown",
   "id": "f6ff71eb-9ef6-4b7d-bde4-28cbc74666cc",
   "metadata": {},
   "source": [
    "In this notebook, some EDA will be performed on each sets of data for the subreddits."
   ]
  },
  {
   "cell_type": "markdown",
   "id": "a0430f12-a272-4a28-972a-304a89532e91",
   "metadata": {},
   "source": [
    "# Imports:"
   ]
  },
  {
   "cell_type": "code",
   "execution_count": 435,
   "id": "68cf811d-9999-478a-bc13-e2334d106091",
   "metadata": {},
   "outputs": [],
   "source": [
    "import matplotlib.pyplot as plt\n",
    "import pandas as pd\n",
    "import seaborn as sns\n",
    "import numpy as np\n",
    "\n",
    "from sklearn.feature_extraction.text import CountVectorizer\n",
    "\n",
    "# this setting widens how many characters pandas will display in a column:\n",
    "pd.options.display.max_colwidth = 400\n",
    "\n",
    "import nltk\n",
    "from nltk.tokenize import sent_tokenize, word_tokenize, RegexpTokenizer\n",
    "from nltk.stem import PorterStemmer, WordNetLemmatizer\n",
    "from nltk.corpus import stopwords, wordnet\n",
    "from nltk.sentiment.vader import SentimentIntensityAnalyzer"
   ]
  },
  {
   "cell_type": "markdown",
   "id": "3187f450-2a6e-4039-8fd1-88e242dd7b3e",
   "metadata": {},
   "source": [
    "# Loading Datasets:"
   ]
  },
  {
   "cell_type": "code",
   "execution_count": 436,
   "id": "26995687-fe5b-460c-a2fa-e98f936f8864",
   "metadata": {},
   "outputs": [
    {
     "data": {
      "text/html": [
       "<div>\n",
       "<style scoped>\n",
       "    .dataframe tbody tr th:only-of-type {\n",
       "        vertical-align: middle;\n",
       "    }\n",
       "\n",
       "    .dataframe tbody tr th {\n",
       "        vertical-align: top;\n",
       "    }\n",
       "\n",
       "    .dataframe thead th {\n",
       "        text-align: right;\n",
       "    }\n",
       "</style>\n",
       "<table border=\"1\" class=\"dataframe\">\n",
       "  <thead>\n",
       "    <tr style=\"text-align: right;\">\n",
       "      <th></th>\n",
       "      <th>subreddit</th>\n",
       "      <th>post</th>\n",
       "      <th>title</th>\n",
       "    </tr>\n",
       "  </thead>\n",
       "  <tbody>\n",
       "    <tr>\n",
       "      <th>0</th>\n",
       "      <td>0</td>\n",
       "      <td>[removed]</td>\n",
       "      <td>If only</td>\n",
       "    </tr>\n",
       "    <tr>\n",
       "      <th>1</th>\n",
       "      <td>0</td>\n",
       "      <td>Ok so the show itself is a “scary” and violent one. I finished season 4 just now and its clear by now. \\n\\nI only have one season left, but is there any episodes that include bloody deaths in season 5? \\n\\nThe acid scenes were very gross but i could tolerate it, but the box cutter scene really scared me and i had to skip ahead a few seconds.</td>\n",
       "      <td>I’m squeamish/gets scared easily - anyone wanna warn me about any episodes?</td>\n",
       "    </tr>\n",
       "    <tr>\n",
       "      <th>2</th>\n",
       "      <td>0</td>\n",
       "      <td>If Hank simply watched security footage from the motel, he would find that Jesse in fact, was not there the last three days with Wendy.</td>\n",
       "      <td>Motels didn't have cameras back then?</td>\n",
       "    </tr>\n",
       "    <tr>\n",
       "      <th>3</th>\n",
       "      <td>0</td>\n",
       "      <td>[removed]</td>\n",
       "      <td>Walter Jr outfit in this scene:</td>\n",
       "    </tr>\n",
       "    <tr>\n",
       "      <th>4</th>\n",
       "      <td>0</td>\n",
       "      <td>You can’t get near him and have to lay low. What’s your plan to take out via before he takes out you? And you also can’t just make a different type of bomb. That’s cheating.</td>\n",
       "      <td>If you were Walt and the store was out of Etch A Sketches, how would you take out Gus?</td>\n",
       "    </tr>\n",
       "  </tbody>\n",
       "</table>\n",
       "</div>"
      ],
      "text/plain": [
       "   subreddit  \\\n",
       "0          0   \n",
       "1          0   \n",
       "2          0   \n",
       "3          0   \n",
       "4          0   \n",
       "\n",
       "                                                                                                                                                                                                                                                                                                                                                      post  \\\n",
       "0                                                                                                                                                                                                                                                                                                                                                [removed]   \n",
       "1  Ok so the show itself is a “scary” and violent one. I finished season 4 just now and its clear by now. \\n\\nI only have one season left, but is there any episodes that include bloody deaths in season 5? \\n\\nThe acid scenes were very gross but i could tolerate it, but the box cutter scene really scared me and i had to skip ahead a few seconds.   \n",
       "2                                                                                                                                                                                                                  If Hank simply watched security footage from the motel, he would find that Jesse in fact, was not there the last three days with Wendy.   \n",
       "3                                                                                                                                                                                                                                                                                                                                                [removed]   \n",
       "4                                                                                                                                                                            You can’t get near him and have to lay low. What’s your plan to take out via before he takes out you? And you also can’t just make a different type of bomb. That’s cheating.   \n",
       "\n",
       "                                                                                    title  \n",
       "0                                                                                 If only  \n",
       "1             I’m squeamish/gets scared easily - anyone wanna warn me about any episodes?  \n",
       "2                                                   Motels didn't have cameras back then?  \n",
       "3                                                         Walter Jr outfit in this scene:  \n",
       "4  If you were Walt and the store was out of Etch A Sketches, how would you take out Gus?  "
      ]
     },
     "execution_count": 436,
     "metadata": {},
     "output_type": "execute_result"
    }
   ],
   "source": [
    "# Reading breaking bad subreddit dataset\n",
    "bb_df = pd.read_csv('data/breakingbad.csv')\n",
    "bb_df['subreddit'] = bb_df['subreddit'].map({'breakingbad': 0, 'betterCallSaul': 1})\n",
    "bb_df = bb_df.rename(columns={'selftext': 'post'})\n",
    "\n",
    "bb_df.drop(columns = 'Unnamed: 0', inplace= True)\n",
    "bb_df.head()"
   ]
  },
  {
   "cell_type": "code",
   "execution_count": 437,
   "id": "5d76a366-6f87-4446-84ed-14c5342c7077",
   "metadata": {},
   "outputs": [],
   "source": [
    "# Reading better call saul subreddit dataset\n",
    "bcs_df = pd.read_csv('data/bettercallsaul.csv')\n",
    "bcs_df['subreddit'] = bcs_df['subreddit'].map({'breakingbad': 0, 'betterCallSaul': 1})\n",
    "bcs_df = bcs_df.rename(columns={'selftext': 'post'})\n",
    "bcs_df.drop(columns = 'Unnamed: 0', inplace= True)\n"
   ]
  },
  {
   "cell_type": "code",
   "execution_count": 438,
   "id": "9364797b-d1ba-49a2-ba5a-5feb9f9c7c71",
   "metadata": {},
   "outputs": [
    {
     "data": {
      "text/html": [
       "<div>\n",
       "<style scoped>\n",
       "    .dataframe tbody tr th:only-of-type {\n",
       "        vertical-align: middle;\n",
       "    }\n",
       "\n",
       "    .dataframe tbody tr th {\n",
       "        vertical-align: top;\n",
       "    }\n",
       "\n",
       "    .dataframe thead th {\n",
       "        text-align: right;\n",
       "    }\n",
       "</style>\n",
       "<table border=\"1\" class=\"dataframe\">\n",
       "  <thead>\n",
       "    <tr style=\"text-align: right;\">\n",
       "      <th></th>\n",
       "      <th>subreddit</th>\n",
       "      <th>post</th>\n",
       "      <th>title</th>\n",
       "    </tr>\n",
       "  </thead>\n",
       "  <tbody>\n",
       "    <tr>\n",
       "      <th>0</th>\n",
       "      <td>1</td>\n",
       "      <td>All you people say \"oh boohoo Jimmy, boohoohoo Jimmy\" as if Jimmy isn't an adult that can make his own choices.\\n\\nLemme ask you something. If Jimmy really isn't a terrible person, how come in S6E8, he asks Lalo to send Kim to Gus' house? Gus doesn't like being disturbed during dinner. What if he shoots Kim before she can shoot him? Also, what if Kim crashes her car along the way to Gus' house...</td>\n",
       "      <td>Stop denying it. Chuck was right</td>\n",
       "    </tr>\n",
       "    <tr>\n",
       "      <th>1</th>\n",
       "      <td>1</td>\n",
       "      <td>We all know that the excavation happened in the laundry site at the center of Abq. But in S4&amp;amp; S5 of BCS, when Lalo was investigating Gus’s secret, we see the place was in the middle of nowhere, and when Gus showed Lalo the fake project at that site he said it’s a chicken chiller, not laundry. \\n\\nSeems to me this is a plot hole, or am I missing something?</td>\n",
       "      <td>Where exactly is the excavation project</td>\n",
       "    </tr>\n",
       "    <tr>\n",
       "      <th>2</th>\n",
       "      <td>1</td>\n",
       "      <td>Mine is probably Dedicado a Max. It's not horrible by any means, but I didn't really care for the Mike in Mexico plot.</td>\n",
       "      <td>Least favorite episode?</td>\n",
       "    </tr>\n",
       "    <tr>\n",
       "      <th>3</th>\n",
       "      <td>1</td>\n",
       "      <td>NaN</td>\n",
       "      <td>Better SUCK Chuck (Official Music Video) pls check out my yt 🙂</td>\n",
       "    </tr>\n",
       "    <tr>\n",
       "      <th>4</th>\n",
       "      <td>1</td>\n",
       "      <td>NaN</td>\n",
       "      <td>Salamanca Brothers</td>\n",
       "    </tr>\n",
       "  </tbody>\n",
       "</table>\n",
       "</div>"
      ],
      "text/plain": [
       "   subreddit  \\\n",
       "0          1   \n",
       "1          1   \n",
       "2          1   \n",
       "3          1   \n",
       "4          1   \n",
       "\n",
       "                                                                                                                                                                                                                                                                                                                                                                                                              post  \\\n",
       "0  All you people say \"oh boohoo Jimmy, boohoohoo Jimmy\" as if Jimmy isn't an adult that can make his own choices.\\n\\nLemme ask you something. If Jimmy really isn't a terrible person, how come in S6E8, he asks Lalo to send Kim to Gus' house? Gus doesn't like being disturbed during dinner. What if he shoots Kim before she can shoot him? Also, what if Kim crashes her car along the way to Gus' house...   \n",
       "1                                        We all know that the excavation happened in the laundry site at the center of Abq. But in S4&amp; S5 of BCS, when Lalo was investigating Gus’s secret, we see the place was in the middle of nowhere, and when Gus showed Lalo the fake project at that site he said it’s a chicken chiller, not laundry. \\n\\nSeems to me this is a plot hole, or am I missing something?   \n",
       "2                                                                                                                                                                                                                                                                                           Mine is probably Dedicado a Max. It's not horrible by any means, but I didn't really care for the Mike in Mexico plot.   \n",
       "3                                                                                                                                                                                                                                                                                                                                                                                                              NaN   \n",
       "4                                                                                                                                                                                                                                                                                                                                                                                                              NaN   \n",
       "\n",
       "                                                            title  \n",
       "0                                Stop denying it. Chuck was right  \n",
       "1                         Where exactly is the excavation project  \n",
       "2                                         Least favorite episode?  \n",
       "3  Better SUCK Chuck (Official Music Video) pls check out my yt 🙂  \n",
       "4                                              Salamanca Brothers  "
      ]
     },
     "execution_count": 438,
     "metadata": {},
     "output_type": "execute_result"
    }
   ],
   "source": [
    "# Reading both breaking bad and better call saul subreddits as one dataset\n",
    "df = pd.read_csv('data/subreddits.csv')\n",
    "df['subreddit'] = df['subreddit'].map({'breakingbad': 0, 'betterCallSaul': 1})\n",
    "df = df.rename(columns={'selftext': 'post'})\n",
    "df.drop(columns = 'Unnamed: 0', inplace= True)\n",
    "\n",
    "\n",
    "df.shape\n",
    "df.head()"
   ]
  },
  {
   "cell_type": "markdown",
   "id": "b15cf1d7-1044-4c2f-9f59-4dc86115dfac",
   "metadata": {},
   "source": [
    "# EDA on Breaking Bad Titles"
   ]
  },
  {
   "cell_type": "markdown",
   "id": "9f144649-70e0-4cc9-90d2-8c6097ae5111",
   "metadata": {},
   "source": [
    "After checking the missing values, I noticed most of the posts are only images and don't have any texts in the body. Therefore, I decided to move on with the titles of each post."
   ]
  },
  {
   "cell_type": "code",
   "execution_count": 439,
   "id": "f4ffeacc-7522-4266-bba9-c4df1bc50269",
   "metadata": {},
   "outputs": [
    {
     "data": {
      "text/plain": [
       "subreddit       0\n",
       "post         2503\n",
       "title           0\n",
       "dtype: int64"
      ]
     },
     "execution_count": 439,
     "metadata": {},
     "output_type": "execute_result"
    }
   ],
   "source": [
    "df.isna().sum()"
   ]
  },
  {
   "cell_type": "code",
   "execution_count": 440,
   "id": "023f4e81-2eba-4f64-a18a-5dfe355ee92b",
   "metadata": {},
   "outputs": [],
   "source": [
    "# Function to count words in each title:\n",
    "def word_count(title):\n",
    "    word_count = 0\n",
    "    is_in_word = False\n",
    "    for char in title:\n",
    "        if char in ' \\t\\n.!,:;/?\\\\()\"':\n",
    "            is_in_word = False\n",
    "        else:\n",
    "            if not is_in_word:\n",
    "                word_count += 1\n",
    "                is_in_word = True\n",
    "\n",
    "    return (word_count)"
   ]
  },
  {
   "cell_type": "code",
   "execution_count": 441,
   "id": "0a2f5ccf-7168-4480-8f6b-5c1956e9b2c6",
   "metadata": {},
   "outputs": [
    {
     "data": {
      "text/plain": [
       "(2495, 4)"
      ]
     },
     "execution_count": 441,
     "metadata": {},
     "output_type": "execute_result"
    }
   ],
   "source": [
    "# Adding a column showing number of words in each title\n",
    "bb_df['title_length'] = [word_count(comment) for comment in bb_df['title']]\n",
    "bb_df = bb_df.loc[bb_df['title_length'] > 0, :]\n",
    "bb_df.shape"
   ]
  },
  {
   "cell_type": "markdown",
   "id": "3177125e-2556-416c-9d18-4104b97a6711",
   "metadata": {},
   "source": [
    "# Longest and Shortest Titles in Breaking Bad Subreddits"
   ]
  },
  {
   "cell_type": "code",
   "execution_count": 442,
   "id": "32f59700-2462-44d8-9b72-4b3b7310cdea",
   "metadata": {},
   "outputs": [
    {
     "name": "stdout",
     "output_type": "stream",
     "text": [
      "813    Hank Schrader… I really liked Hank in seasons 1 and 2 especially outside of his work as he acted and well was a badass… after the tortuga incident and after the fake phone call about Marie we really got to see that Hank was not the perfect hero we thought he was which I dislike… what y’all think?\n",
      "812           Most of the cast still look roughly the same age as when they left breaking bad with some exceptions however… Bob Odenkirk has really visibly aged over the past few years… around the time of BCS season 1 he looks good old Saul but by the time season 2 starts you can tell he has aged a lot…\n",
      "828    Breaking bad: it amazes me how Skyler teared Walt down for cooking meth, then ironically falls for Ted who is stealing from his company. Skyler then plays one foot in one out with the cops and attempts to punish Walt every way possible. let this be a lesson a woman never wants to see a man happy.\n",
      "707             This is Gus Fring on his first appearance in Breaking Bad. He was wearing a light blue shirt. From here on out and in Better Call Saul, he never wore this shirt in his restaurant and only the yellow long sleeved one. Were the writers simply unsure about what direction to take his attire?\n",
      "956                       What was the significance of Uncle Jack wearing a purple shirt in ‘Felina’? All of his outfits up until this point have been black, gray, etc. the color was not only an odd color choice for the character, but out of the ordinary enough to have to have some kind of significance.\n",
      "Name: title, dtype: object\n"
     ]
    }
   ],
   "source": [
    "# Longest Titles\n",
    "five_longest_titles_bb = bb_df.sort_values(by = 'title_length', ascending = False).head()\n",
    "print(five_longest_titles_bb['title'])"
   ]
  },
  {
   "cell_type": "code",
   "execution_count": 443,
   "id": "fda8a88b-95ba-434b-b422-de8727beac21",
   "metadata": {},
   "outputs": [
    {
     "name": "stdout",
     "output_type": "stream",
     "text": [
      "1247       Question?\n",
      "1081             Boo\n",
      "1170           Wtf?!\n",
      "1208           Lydia\n",
      "1220    Nostalgic...\n",
      "1240            Meme\n",
      "1266         meaning\n",
      "1309            What\n",
      "1313            lofi\n",
      "1349         Gustavo\n",
      "Name: title, dtype: object\n"
     ]
    }
   ],
   "source": [
    "# Shortest Titles\n",
    "five_shortest_titles_bb = bb_df.sort_values(by = 'title_length').head(10)\n",
    "print(five_shortest_titles_bb['title'])"
   ]
  },
  {
   "cell_type": "markdown",
   "id": "478bb5b7-b9e4-409b-b6a1-92b638e4859e",
   "metadata": {},
   "source": [
    "# Distribution of Title Length for Breaking Bad Subreddits"
   ]
  },
  {
   "cell_type": "code",
   "execution_count": 444,
   "id": "33afaaf5-e73e-4439-b9b4-4fc365f02b5a",
   "metadata": {},
   "outputs": [
    {
     "data": {
      "image/png": "[encoded data removed]",
      "text/plain": [
       "<Figure size 640x480 with 1 Axes>"
      ]
     },
     "metadata": {},
     "output_type": "display_data"
    }
   ],
   "source": [
    "plt.hist(bb_df['title_length'], bins = 30, color = 'green', edgecolor = 'white')\n",
    "plt.xlabel('Number of Words in Title')\n",
    "plt.title('Distribution of Title Length, Breaking Bad Subreddits');\n",
    "plt.savefig('image/bbdist.png')"
   ]
  },
  {
   "cell_type": "markdown",
   "id": "1c905b86-5500-42ca-8cac-b094b4fe314e",
   "metadata": {},
   "source": [
    "As we can see in the above plot, the distribution of title length in Breaking Bad subreddit is right skewed. Majority of the title texts are around 10-words long and titles with more than 20 words are rare."
   ]
  },
  {
   "cell_type": "markdown",
   "id": "7deaf243-119d-4d74-ada2-a4132e6ca132",
   "metadata": {},
   "source": [
    "# EDA on Better Call Saul Posts"
   ]
  },
  {
   "cell_type": "code",
   "execution_count": 445,
   "id": "5efaca2c-68c9-4dec-8b0f-8edc4fb370a7",
   "metadata": {},
   "outputs": [
    {
     "data": {
      "text/plain": [
       "(2496, 3)"
      ]
     },
     "execution_count": 445,
     "metadata": {},
     "output_type": "execute_result"
    }
   ],
   "source": [
    "bcs_df.isna().sum()\n",
    "bcs_df.shape"
   ]
  },
  {
   "cell_type": "code",
   "execution_count": 446,
   "id": "47ed349c-9ea7-428b-a62b-5b31ce9997b8",
   "metadata": {},
   "outputs": [
    {
     "data": {
      "text/plain": [
       "(2494, 4)"
      ]
     },
     "execution_count": 446,
     "metadata": {},
     "output_type": "execute_result"
    }
   ],
   "source": [
    "# Adding a column showing number of words in each post\n",
    "bcs_df['title_length'] = [word_count(comment) for comment in bcs_df['title']]\n",
    "bcs_df = bcs_df.loc[bcs_df['title_length'] > 0, :]\n",
    "bcs_df.shape"
   ]
  },
  {
   "cell_type": "markdown",
   "id": "6551ee10-1906-474a-8563-647868458c87",
   "metadata": {},
   "source": [
    "# Longest and Shortest Posts in Better Call Saul Subreddits"
   ]
  },
  {
   "cell_type": "code",
   "execution_count": 447,
   "id": "1302d701-da68-4440-9b1f-456b53c82ac8",
   "metadata": {},
   "outputs": [
    {
     "name": "stdout",
     "output_type": "stream",
     "text": [
      "2261    $10,000(USD) slab of COCOBOLO~ It may not be anything interesting to some, I’ve just personally never seen an 8.5’ L (101”) x 20” W &amp; 4/4 to 5/4 thick, slab of ANYTHING go for $10,000 … wanted to hear your thoughts. . . Is it priced right?? … would you buy this piece? What makes it worth $10K?\n",
      "1448            Called the free will Baptist church from the show cause I was curious. Just rang and then hung up. But today, a couple days later, I got a call back? It rang and almost immediately hung up and I couldn’t answer it. I know it was an Easter egg for a while. Does someone still own the number?\n",
      "1185     i was watching the wire season 3 episode 1 and the final shot felt familiar. For comparison, the final shot of BCS 3.1 as well. Not sure if this is intentional but both shots being the end of the same episode sequence, 3.1, it seems plausible. I hadn't heard of any prior wire connections for BCS.\n",
      "2146            What always struck me as interesting about this scene is the guy ends up buying 2 cartons of cigs. While it's clearly to show off his big wad of cash, it almost reads as if he respected Jimmy seeing through his scam and \"returns\" most of the money with a purchase as a twisted show of such.\n",
      "1917                    If you are like me and have come to know this man as \"Gene Takovic\" be Warned! He is a wanted conman from Albuquerque named \"Saul Goodman\". This \"forum\" seems to be full of fans of this man. I regret to inform you he is a conman. Please pass on any/all information about him. Marion\n",
      "Name: title, dtype: object\n"
     ]
    }
   ],
   "source": [
    "# Longest Titles\n",
    "five_longest_titles = bcs_df.sort_values(by = 'title_length', ascending = False).head()\n",
    "print(five_longest_titles['title'])"
   ]
  },
  {
   "cell_type": "code",
   "execution_count": 448,
   "id": "600f18ab-cfe1-4f2a-a630-2623a5478ed7",
   "metadata": {},
   "outputs": [
    {
     "name": "stdout",
     "output_type": "stream",
     "text": [
      "1049             🗿\n",
      "2050         Lmfao\n",
      "764     Confession\n",
      "886           mike\n",
      "1885             😅\n",
      "Name: title, dtype: object\n"
     ]
    }
   ],
   "source": [
    "# Shortest Titles\n",
    "five_shortest_titles_bcs = bcs_df.sort_values(by = 'title_length').head()\n",
    "print(five_shortest_titles_bcs['title'])"
   ]
  },
  {
   "cell_type": "markdown",
   "id": "a99a33fe-c53d-4962-8ef3-172e3588d2f0",
   "metadata": {},
   "source": [
    "# Distribution of Title Length for Better Call Saul Subreddits"
   ]
  },
  {
   "cell_type": "code",
   "execution_count": 449,
   "id": "412f1247-eb2c-4cd5-abeb-d03c0914054e",
   "metadata": {},
   "outputs": [
    {
     "data": {
      "image/png": "[encoded data removed]",
      "text/plain": [
       "<Figure size 640x480 with 1 Axes>"
      ]
     },
     "metadata": {},
     "output_type": "display_data"
    }
   ],
   "source": [
    "plt.hist(bcs_df['title_length'], bins = 30, color = 'orange', edgecolor = 'white')\n",
    "plt.xlabel('Number of Words in Title')\n",
    "plt.title('Distribution of Title Length, Better Call Saul Subreddits');\n",
    "plt.savefig('image/bcsdist.png')"
   ]
  },
  {
   "cell_type": "markdown",
   "id": "8975c56d-cefe-4081-85d7-46b6c9f51aff",
   "metadata": {},
   "source": [
    "Same as Breaking Bad subreddit, the distribution of title length is right skewed and there is a low tendency to write titles with more than 20 words."
   ]
  },
  {
   "cell_type": "markdown",
   "id": "39bd64c9-d51d-485b-b288-d07c2ab4eb63",
   "metadata": {},
   "source": [
    "# Distribution of Post Length for Both Subreddits"
   ]
  },
  {
   "cell_type": "code",
   "execution_count": 450,
   "id": "d6208126-c477-4420-a36f-3bd471fdeca2",
   "metadata": {},
   "outputs": [
    {
     "data": {
      "text/html": [
       "<div>\n",
       "<style scoped>\n",
       "    .dataframe tbody tr th:only-of-type {\n",
       "        vertical-align: middle;\n",
       "    }\n",
       "\n",
       "    .dataframe tbody tr th {\n",
       "        vertical-align: top;\n",
       "    }\n",
       "\n",
       "    .dataframe thead th {\n",
       "        text-align: right;\n",
       "    }\n",
       "</style>\n",
       "<table border=\"1\" class=\"dataframe\">\n",
       "  <thead>\n",
       "    <tr style=\"text-align: right;\">\n",
       "      <th></th>\n",
       "      <th>subreddit</th>\n",
       "      <th>post</th>\n",
       "      <th>title</th>\n",
       "      <th>title_length</th>\n",
       "    </tr>\n",
       "  </thead>\n",
       "  <tbody>\n",
       "    <tr>\n",
       "      <th>0</th>\n",
       "      <td>1</td>\n",
       "      <td>All you people say \"oh boohoo Jimmy, boohoohoo Jimmy\" as if Jimmy isn't an adult that can make his own choices.\\n\\nLemme ask you something. If Jimmy really isn't a terrible person, how come in S6E8, he asks Lalo to send Kim to Gus' house? Gus doesn't like being disturbed during dinner. What if he shoots Kim before she can shoot him? Also, what if Kim crashes her car along the way to Gus' house...</td>\n",
       "      <td>Stop denying it. Chuck was right</td>\n",
       "      <td>6</td>\n",
       "    </tr>\n",
       "    <tr>\n",
       "      <th>1</th>\n",
       "      <td>1</td>\n",
       "      <td>We all know that the excavation happened in the laundry site at the center of Abq. But in S4&amp;amp; S5 of BCS, when Lalo was investigating Gus’s secret, we see the place was in the middle of nowhere, and when Gus showed Lalo the fake project at that site he said it’s a chicken chiller, not laundry. \\n\\nSeems to me this is a plot hole, or am I missing something?</td>\n",
       "      <td>Where exactly is the excavation project</td>\n",
       "      <td>6</td>\n",
       "    </tr>\n",
       "    <tr>\n",
       "      <th>2</th>\n",
       "      <td>1</td>\n",
       "      <td>Mine is probably Dedicado a Max. It's not horrible by any means, but I didn't really care for the Mike in Mexico plot.</td>\n",
       "      <td>Least favorite episode?</td>\n",
       "      <td>3</td>\n",
       "    </tr>\n",
       "    <tr>\n",
       "      <th>3</th>\n",
       "      <td>1</td>\n",
       "      <td>NaN</td>\n",
       "      <td>Better SUCK Chuck (Official Music Video) pls check out my yt 🙂</td>\n",
       "      <td>12</td>\n",
       "    </tr>\n",
       "    <tr>\n",
       "      <th>4</th>\n",
       "      <td>1</td>\n",
       "      <td>NaN</td>\n",
       "      <td>Salamanca Brothers</td>\n",
       "      <td>2</td>\n",
       "    </tr>\n",
       "  </tbody>\n",
       "</table>\n",
       "</div>"
      ],
      "text/plain": [
       "   subreddit  \\\n",
       "0          1   \n",
       "1          1   \n",
       "2          1   \n",
       "3          1   \n",
       "4          1   \n",
       "\n",
       "                                                                                                                                                                                                                                                                                                                                                                                                              post  \\\n",
       "0  All you people say \"oh boohoo Jimmy, boohoohoo Jimmy\" as if Jimmy isn't an adult that can make his own choices.\\n\\nLemme ask you something. If Jimmy really isn't a terrible person, how come in S6E8, he asks Lalo to send Kim to Gus' house? Gus doesn't like being disturbed during dinner. What if he shoots Kim before she can shoot him? Also, what if Kim crashes her car along the way to Gus' house...   \n",
       "1                                        We all know that the excavation happened in the laundry site at the center of Abq. But in S4&amp; S5 of BCS, when Lalo was investigating Gus’s secret, we see the place was in the middle of nowhere, and when Gus showed Lalo the fake project at that site he said it’s a chicken chiller, not laundry. \\n\\nSeems to me this is a plot hole, or am I missing something?   \n",
       "2                                                                                                                                                                                                                                                                                           Mine is probably Dedicado a Max. It's not horrible by any means, but I didn't really care for the Mike in Mexico plot.   \n",
       "3                                                                                                                                                                                                                                                                                                                                                                                                              NaN   \n",
       "4                                                                                                                                                                                                                                                                                                                                                                                                              NaN   \n",
       "\n",
       "                                                            title  \\\n",
       "0                                Stop denying it. Chuck was right   \n",
       "1                         Where exactly is the excavation project   \n",
       "2                                         Least favorite episode?   \n",
       "3  Better SUCK Chuck (Official Music Video) pls check out my yt 🙂   \n",
       "4                                              Salamanca Brothers   \n",
       "\n",
       "   title_length  \n",
       "0             6  \n",
       "1             6  \n",
       "2             3  \n",
       "3            12  \n",
       "4             2  "
      ]
     },
     "execution_count": 450,
     "metadata": {},
     "output_type": "execute_result"
    }
   ],
   "source": [
    "df['title_length'] = [word_count(comment) for comment in df['title']]\n",
    "df.head()"
   ]
  },
  {
   "cell_type": "code",
   "execution_count": 451,
   "id": "d4bffc22-e406-4b45-bc73-7bee991bec70",
   "metadata": {},
   "outputs": [
    {
     "data": {
      "image/png": "[encoded data removed]",
      "text/plain": [
       "<Figure size 640x480 with 1 Axes>"
      ]
     },
     "metadata": {},
     "output_type": "display_data"
    }
   ],
   "source": [
    "plt.hist(df['title_length'], bins = 50, color = 'brown', edgecolor = 'white')\n",
    "plt.xlabel('Number of Words in Post')\n",
    "plt.title('Distribution of title Length');\n",
    "plt.savefig('image/bothdist.png')"
   ]
  },
  {
   "cell_type": "markdown",
   "id": "17ac157c-7721-47ac-8516-91ebbbc10182",
   "metadata": {},
   "source": [
    "# Positive & Negative words"
   ]
  },
  {
   "cell_type": "markdown",
   "id": "2c601ab5-5196-4594-bde5-bc812d810fe5",
   "metadata": {},
   "source": [
    "Here, I have used a dictionary of positive and negative words to perform the sentimental analysis on each post title for each subreddit."
   ]
  },
  {
   "cell_type": "code",
   "execution_count": 452,
   "id": "f088cf40-c369-4f91-bddb-42a61c9ea46a",
   "metadata": {},
   "outputs": [],
   "source": [
    "# source: https://github.com/shekhargulati/sentiment-analysis-python\n",
    "negative_words = set(pd.read_csv('data/negative-words.txt')['words'])\n",
    "positive_words = set(pd.read_csv('data/positive-words.txt')['words'])"
   ]
  },
  {
   "cell_type": "code",
   "execution_count": 453,
   "id": "2cdf124a-93b4-4ef1-855f-f35a80b577ac",
   "metadata": {},
   "outputs": [
    {
     "data": {
      "text/plain": [
       "2006"
      ]
     },
     "execution_count": 453,
     "metadata": {},
     "output_type": "execute_result"
    }
   ],
   "source": [
    "len(positive_words)"
   ]
  },
  {
   "cell_type": "code",
   "execution_count": 454,
   "id": "790a0307-4d63-41a3-9afc-572a3261b998",
   "metadata": {},
   "outputs": [
    {
     "data": {
      "text/plain": [
       "4774"
      ]
     },
     "execution_count": 454,
     "metadata": {},
     "output_type": "execute_result"
    }
   ],
   "source": [
    "len(negative_words)"
   ]
  },
  {
   "cell_type": "code",
   "execution_count": 455,
   "id": "3ffd591f-6f3c-4cab-b6f4-c7d7daa68b91",
   "metadata": {},
   "outputs": [],
   "source": [
    "# Function to classify titles as having positive or negative emotion.\n",
    "# This function is adapted from Lesson NLP I, Sentimental Analysis\n",
    "def simple_sentiment(text):\n",
    "    # Normalize input text\n",
    "    tokenizer = RegexpTokenizer(r'\\w+')  \n",
    "    tokens = tokenizer.tokenize(str(text).lower()) \n",
    "    ps = PorterStemmer()\n",
    "    stemmed_words = [ps.stem(i) for i in tokens]\n",
    "    \n",
    "   # Count \"positive\" and \"negative\" sentimented words.\n",
    "    pos_count = len([i for i in stemmed_words if i in positive_words])\n",
    "    neg_count = len([i for i in stemmed_words if i in negative_words])\n",
    "    \n",
    "    # Calculate some sentiment\n",
    "    return {\"positive\": pos_count / (len(tokens)+1),\n",
    "            \"negative\": neg_count / (len(tokens)+1)}\n"
   ]
  },
  {
   "cell_type": "code",
   "execution_count": 456,
   "id": "d669d8cf-0723-46ba-abae-52529a03ad35",
   "metadata": {
    "tags": []
   },
   "outputs": [],
   "source": [
    "bb_pos_neg = [simple_sentiment(title) for title in bb_df['title']]"
   ]
  },
  {
   "cell_type": "code",
   "execution_count": 457,
   "id": "1c9e9315-6d8e-4ecf-a855-58cb89db3029",
   "metadata": {},
   "outputs": [],
   "source": [
    "bb_pos_neg_df = bb_df[['title']].apply(simple_sentiment, axis=1, result_type=\"expand\")"
   ]
  },
  {
   "cell_type": "code",
   "execution_count": 458,
   "id": "d9859f08-c60e-4295-b082-72dbfe0f8267",
   "metadata": {
    "tags": []
   },
   "outputs": [
    {
     "data": {
      "text/html": [
       "<div>\n",
       "<style scoped>\n",
       "    .dataframe tbody tr th:only-of-type {\n",
       "        vertical-align: middle;\n",
       "    }\n",
       "\n",
       "    .dataframe tbody tr th {\n",
       "        vertical-align: top;\n",
       "    }\n",
       "\n",
       "    .dataframe thead th {\n",
       "        text-align: right;\n",
       "    }\n",
       "</style>\n",
       "<table border=\"1\" class=\"dataframe\">\n",
       "  <thead>\n",
       "    <tr style=\"text-align: right;\">\n",
       "      <th></th>\n",
       "      <th>positive</th>\n",
       "      <th>negative</th>\n",
       "    </tr>\n",
       "  </thead>\n",
       "  <tbody>\n",
       "    <tr>\n",
       "      <th>0</th>\n",
       "      <td>0.0</td>\n",
       "      <td>0.125000</td>\n",
       "    </tr>\n",
       "    <tr>\n",
       "      <th>1</th>\n",
       "      <td>0.0</td>\n",
       "      <td>0.105263</td>\n",
       "    </tr>\n",
       "    <tr>\n",
       "      <th>2</th>\n",
       "      <td>0.0</td>\n",
       "      <td>0.076923</td>\n",
       "    </tr>\n",
       "    <tr>\n",
       "      <th>3</th>\n",
       "      <td>0.0</td>\n",
       "      <td>0.083333</td>\n",
       "    </tr>\n",
       "    <tr>\n",
       "      <th>4</th>\n",
       "      <td>0.0</td>\n",
       "      <td>0.040000</td>\n",
       "    </tr>\n",
       "  </tbody>\n",
       "</table>\n",
       "</div>"
      ],
      "text/plain": [
       "   positive  negative\n",
       "0       0.0  0.125000\n",
       "1       0.0  0.105263\n",
       "2       0.0  0.076923\n",
       "3       0.0  0.083333\n",
       "4       0.0  0.040000"
      ]
     },
     "execution_count": 458,
     "metadata": {},
     "output_type": "execute_result"
    }
   ],
   "source": [
    "bb_pos_neg_df.head()"
   ]
  },
  {
   "cell_type": "code",
   "execution_count": 459,
   "id": "f385a352-d7aa-48a0-9a91-412b5302b517",
   "metadata": {},
   "outputs": [],
   "source": [
    "bcs_pos_neg = [simple_sentiment(title) for title in bcs_df['title']]"
   ]
  },
  {
   "cell_type": "code",
   "execution_count": 460,
   "id": "f860d425-980e-4cd5-98e0-447565aae744",
   "metadata": {},
   "outputs": [],
   "source": [
    "bcs_pos_neg_df = bcs_df[['title']].apply(simple_sentiment, axis=1, result_type=\"expand\")"
   ]
  },
  {
   "cell_type": "code",
   "execution_count": 461,
   "id": "92508a0b-17ed-408d-953b-516c3e5b8eb9",
   "metadata": {},
   "outputs": [
    {
     "data": {
      "text/html": [
       "<div>\n",
       "<style scoped>\n",
       "    .dataframe tbody tr th:only-of-type {\n",
       "        vertical-align: middle;\n",
       "    }\n",
       "\n",
       "    .dataframe tbody tr th {\n",
       "        vertical-align: top;\n",
       "    }\n",
       "\n",
       "    .dataframe thead th {\n",
       "        text-align: right;\n",
       "    }\n",
       "</style>\n",
       "<table border=\"1\" class=\"dataframe\">\n",
       "  <thead>\n",
       "    <tr style=\"text-align: right;\">\n",
       "      <th></th>\n",
       "      <th>positive</th>\n",
       "      <th>negative</th>\n",
       "    </tr>\n",
       "  </thead>\n",
       "  <tbody>\n",
       "    <tr>\n",
       "      <th>0</th>\n",
       "      <td>0.083333</td>\n",
       "      <td>0.083333</td>\n",
       "    </tr>\n",
       "    <tr>\n",
       "      <th>1</th>\n",
       "      <td>0.000000</td>\n",
       "      <td>0.083333</td>\n",
       "    </tr>\n",
       "    <tr>\n",
       "      <th>2</th>\n",
       "      <td>0.000000</td>\n",
       "      <td>0.111111</td>\n",
       "    </tr>\n",
       "    <tr>\n",
       "      <th>3</th>\n",
       "      <td>0.058824</td>\n",
       "      <td>0.117647</td>\n",
       "    </tr>\n",
       "    <tr>\n",
       "      <th>4</th>\n",
       "      <td>0.000000</td>\n",
       "      <td>0.125000</td>\n",
       "    </tr>\n",
       "  </tbody>\n",
       "</table>\n",
       "</div>"
      ],
      "text/plain": [
       "   positive  negative\n",
       "0  0.083333  0.083333\n",
       "1  0.000000  0.083333\n",
       "2  0.000000  0.111111\n",
       "3  0.058824  0.117647\n",
       "4  0.000000  0.125000"
      ]
     },
     "execution_count": 461,
     "metadata": {},
     "output_type": "execute_result"
    }
   ],
   "source": [
    "bcs_pos_neg_df.head()"
   ]
  },
  {
   "cell_type": "code",
   "execution_count": 462,
   "id": "03ec38f1-f38e-4f8f-8301-b3c978b57cd1",
   "metadata": {},
   "outputs": [],
   "source": [
    "bcs_pos_neg_df['subreddit'] = 'BetterCallSaul'"
   ]
  },
  {
   "cell_type": "code",
   "execution_count": 463,
   "id": "421cbe02-1dd2-4a67-9d97-b091402acfbc",
   "metadata": {},
   "outputs": [],
   "source": [
    "bb_pos_neg_df['subreddit'] = 'BreakingBad'"
   ]
  },
  {
   "cell_type": "code",
   "execution_count": 464,
   "id": "dd3f9c76-8152-4cae-99fb-00c0853b8b4e",
   "metadata": {},
   "outputs": [
    {
     "name": "stderr",
     "output_type": "stream",
     "text": [
      "/var/folders/cb/7tm32xh579bd23nj5kz1sydc0000gp/T/ipykernel_2723/4074726826.py:1: FutureWarning: The default value of numeric_only in DataFrame.mean is deprecated. In a future version, it will default to False. In addition, specifying 'numeric_only=None' is deprecated. Select only valid columns or specify the value of numeric_only to silence this warning.\n",
      "  bb_pos_neg_df.mean()\n"
     ]
    },
    {
     "data": {
      "text/plain": [
       "positive    0.013425\n",
       "negative    0.089047\n",
       "dtype: float64"
      ]
     },
     "execution_count": 464,
     "metadata": {},
     "output_type": "execute_result"
    }
   ],
   "source": [
    "bb_pos_neg_df.mean()"
   ]
  },
  {
   "cell_type": "code",
   "execution_count": 465,
   "id": "2b2a9fb0-9c11-47ba-b0fc-e5439de8a9da",
   "metadata": {},
   "outputs": [],
   "source": [
    "new_df = pd.concat([bb_pos_neg_df, bcs_pos_neg_df], axis = 0)"
   ]
  },
  {
   "cell_type": "code",
   "execution_count": 466,
   "id": "ebff879b-db08-418d-9c56-26ca53312b18",
   "metadata": {},
   "outputs": [
    {
     "data": {
      "text/html": [
       "<div>\n",
       "<style scoped>\n",
       "    .dataframe tbody tr th:only-of-type {\n",
       "        vertical-align: middle;\n",
       "    }\n",
       "\n",
       "    .dataframe tbody tr th {\n",
       "        vertical-align: top;\n",
       "    }\n",
       "\n",
       "    .dataframe thead th {\n",
       "        text-align: right;\n",
       "    }\n",
       "</style>\n",
       "<table border=\"1\" class=\"dataframe\">\n",
       "  <thead>\n",
       "    <tr style=\"text-align: right;\">\n",
       "      <th></th>\n",
       "      <th>positive</th>\n",
       "      <th>negative</th>\n",
       "      <th>subreddit</th>\n",
       "    </tr>\n",
       "  </thead>\n",
       "  <tbody>\n",
       "    <tr>\n",
       "      <th>0</th>\n",
       "      <td>0.0</td>\n",
       "      <td>0.125000</td>\n",
       "      <td>BreakingBad</td>\n",
       "    </tr>\n",
       "    <tr>\n",
       "      <th>1</th>\n",
       "      <td>0.0</td>\n",
       "      <td>0.105263</td>\n",
       "      <td>BreakingBad</td>\n",
       "    </tr>\n",
       "    <tr>\n",
       "      <th>2</th>\n",
       "      <td>0.0</td>\n",
       "      <td>0.076923</td>\n",
       "      <td>BreakingBad</td>\n",
       "    </tr>\n",
       "    <tr>\n",
       "      <th>3</th>\n",
       "      <td>0.0</td>\n",
       "      <td>0.083333</td>\n",
       "      <td>BreakingBad</td>\n",
       "    </tr>\n",
       "    <tr>\n",
       "      <th>4</th>\n",
       "      <td>0.0</td>\n",
       "      <td>0.040000</td>\n",
       "      <td>BreakingBad</td>\n",
       "    </tr>\n",
       "  </tbody>\n",
       "</table>\n",
       "</div>"
      ],
      "text/plain": [
       "   positive  negative    subreddit\n",
       "0       0.0  0.125000  BreakingBad\n",
       "1       0.0  0.105263  BreakingBad\n",
       "2       0.0  0.076923  BreakingBad\n",
       "3       0.0  0.083333  BreakingBad\n",
       "4       0.0  0.040000  BreakingBad"
      ]
     },
     "execution_count": 466,
     "metadata": {},
     "output_type": "execute_result"
    }
   ],
   "source": [
    "new_df.head()"
   ]
  },
  {
   "cell_type": "code",
   "execution_count": 467,
   "id": "55fc8f86-0905-4a98-85e3-0086db5c6ac8",
   "metadata": {},
   "outputs": [],
   "source": [
    "a = new_df.groupby('subreddit').mean().reset_index()"
   ]
  },
  {
   "cell_type": "code",
   "execution_count": 468,
   "id": "9dbbc6c5-b1db-47f2-a9e7-9cfb4f30143e",
   "metadata": {},
   "outputs": [
    {
     "data": {
      "text/html": [
       "<div>\n",
       "<style scoped>\n",
       "    .dataframe tbody tr th:only-of-type {\n",
       "        vertical-align: middle;\n",
       "    }\n",
       "\n",
       "    .dataframe tbody tr th {\n",
       "        vertical-align: top;\n",
       "    }\n",
       "\n",
       "    .dataframe thead th {\n",
       "        text-align: right;\n",
       "    }\n",
       "</style>\n",
       "<table border=\"1\" class=\"dataframe\">\n",
       "  <thead>\n",
       "    <tr style=\"text-align: right;\">\n",
       "      <th></th>\n",
       "      <th>subreddit</th>\n",
       "      <th>positive</th>\n",
       "      <th>negative</th>\n",
       "    </tr>\n",
       "  </thead>\n",
       "  <tbody>\n",
       "    <tr>\n",
       "      <th>0</th>\n",
       "      <td>BetterCallSaul</td>\n",
       "      <td>0.020521</td>\n",
       "      <td>0.084570</td>\n",
       "    </tr>\n",
       "    <tr>\n",
       "      <th>1</th>\n",
       "      <td>BreakingBad</td>\n",
       "      <td>0.013425</td>\n",
       "      <td>0.089047</td>\n",
       "    </tr>\n",
       "  </tbody>\n",
       "</table>\n",
       "</div>"
      ],
      "text/plain": [
       "        subreddit  positive  negative\n",
       "0  BetterCallSaul  0.020521  0.084570\n",
       "1     BreakingBad  0.013425  0.089047"
      ]
     },
     "execution_count": 468,
     "metadata": {},
     "output_type": "execute_result"
    }
   ],
   "source": [
    "a.head()"
   ]
  },
  {
   "cell_type": "code",
   "execution_count": 469,
   "id": "a09422b3-26ec-4d05-b8d1-05e9542d3d53",
   "metadata": {
    "tags": []
   },
   "outputs": [],
   "source": [
    "b = a.melt(id_vars=[\"subreddit\"], var_name=\"sentiment\", value_name=\"word_percent\")"
   ]
  },
  {
   "cell_type": "code",
   "execution_count": 470,
   "id": "e8053911-b876-4ad2-bed9-124a7c5ed2ba",
   "metadata": {},
   "outputs": [
    {
     "data": {
      "text/html": [
       "<div>\n",
       "<style scoped>\n",
       "    .dataframe tbody tr th:only-of-type {\n",
       "        vertical-align: middle;\n",
       "    }\n",
       "\n",
       "    .dataframe tbody tr th {\n",
       "        vertical-align: top;\n",
       "    }\n",
       "\n",
       "    .dataframe thead th {\n",
       "        text-align: right;\n",
       "    }\n",
       "</style>\n",
       "<table border=\"1\" class=\"dataframe\">\n",
       "  <thead>\n",
       "    <tr style=\"text-align: right;\">\n",
       "      <th></th>\n",
       "      <th>subreddit</th>\n",
       "      <th>sentiment</th>\n",
       "      <th>word_percent</th>\n",
       "    </tr>\n",
       "  </thead>\n",
       "  <tbody>\n",
       "    <tr>\n",
       "      <th>0</th>\n",
       "      <td>BetterCallSaul</td>\n",
       "      <td>positive</td>\n",
       "      <td>0.020521</td>\n",
       "    </tr>\n",
       "    <tr>\n",
       "      <th>1</th>\n",
       "      <td>BreakingBad</td>\n",
       "      <td>positive</td>\n",
       "      <td>0.013425</td>\n",
       "    </tr>\n",
       "    <tr>\n",
       "      <th>2</th>\n",
       "      <td>BetterCallSaul</td>\n",
       "      <td>negative</td>\n",
       "      <td>0.084570</td>\n",
       "    </tr>\n",
       "    <tr>\n",
       "      <th>3</th>\n",
       "      <td>BreakingBad</td>\n",
       "      <td>negative</td>\n",
       "      <td>0.089047</td>\n",
       "    </tr>\n",
       "  </tbody>\n",
       "</table>\n",
       "</div>"
      ],
      "text/plain": [
       "        subreddit sentiment  word_percent\n",
       "0  BetterCallSaul  positive      0.020521\n",
       "1     BreakingBad  positive      0.013425\n",
       "2  BetterCallSaul  negative      0.084570\n",
       "3     BreakingBad  negative      0.089047"
      ]
     },
     "execution_count": 470,
     "metadata": {},
     "output_type": "execute_result"
    }
   ],
   "source": [
    "b"
   ]
  },
  {
   "cell_type": "code",
   "execution_count": 471,
   "id": "a6a6d216-5ec6-41f2-9201-2c699cb2384b",
   "metadata": {},
   "outputs": [
    {
     "data": {
      "image/png": "[encoded data removed]",
      "text/plain": [
       "<Figure size 640x480 with 1 Axes>"
      ]
     },
     "metadata": {},
     "output_type": "display_data"
    }
   ],
   "source": [
    "sns.barplot(data = b, \n",
    "           x = \"sentiment\",\n",
    "           y = \"word_percent\",\n",
    "           hue = 'subreddit');\n",
    "plt.savefig('image/setiment.png')"
   ]
  },
  {
   "cell_type": "markdown",
   "id": "721874ff-cba8-4782-8077-f45a2a2c896f",
   "metadata": {},
   "source": [
    "It appears that, on average, the titles from the Better Call Saul subreddit contain fewer negative words and more positive words than those from the Breaking Bad subreddit."
   ]
  },
  {
   "cell_type": "markdown",
   "id": "5acb2ebf-979b-4374-a9ea-2509e4b4068b",
   "metadata": {},
   "source": [
    "Now, we move on to the NLP and modeling in the next two notebooks."
   ]
  }
 ],
 "metadata": {
  "kernelspec": {
   "display_name": "Python 3 (ipykernel)",
   "language": "python",
   "name": "python3"
  },
  "language_info": {
   "codemirror_mode": {
    "name": "ipython",
    "version": 3
   },
   "file_extension": ".py",
   "mimetype": "text/x-python",
   "name": "python",
   "nbconvert_exporter": "python",
   "pygments_lexer": "ipython3",
   "version": "3.9.13"
  }
 },
 "nbformat": 4,
 "nbformat_minor": 5
}
